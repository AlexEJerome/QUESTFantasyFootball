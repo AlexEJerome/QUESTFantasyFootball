{
 "cells": [
  {
   "cell_type": "markdown",
   "metadata": {},
   "source": [
    "# Standings Test\n",
    "First we establish a valid oauth token below:"
   ]
  },
  {
   "cell_type": "code",
   "execution_count": null,
   "metadata": {},
   "outputs": [],
   "source": [
    "from yahoo_oauth import OAuth2\n",
    "oauth = OAuth2(None, None, from_file='../oauth2.json')"
   ]
  },
  {
   "cell_type": "markdown",
   "metadata": {},
   "source": [
    "This will run more frequently - this will check if the token is valid, if not, refresh. Then, we can try to download info from yahoo."
   ]
  },
  {
   "cell_type": "code",
   "execution_count": 26,
   "metadata": {},
   "outputs": [
    {
     "name": "stderr",
     "output_type": "stream",
     "text": [
      "[2019-08-29 22:27:19,142 DEBUG] [yahoo_oauth.yahoo_oauth.token_is_valid] ELAPSED TIME : 2473.5699093341827\n",
      "[2019-08-29 22:27:19,147 DEBUG] [yahoo_oauth.yahoo_oauth.token_is_valid] TOKEN IS STILL VALID\n"
     ]
    },
    {
     "data": {
      "image/png": "[encoded data removed]",
      "text/plain": [
       "<Figure size 432x288 with 1 Axes>"
      ]
     },
     "metadata": {},
     "output_type": "display_data"
    }
   ],
   "source": [
    "from bs4 import BeautifulSoup\n",
    "import xml.etree.ElementTree as et \n",
    "import pandas as pd \n",
    "\n",
    "import numpy as np\n",
    "import seaborn as sns\n",
    "import matplotlib.pyplot as plt\n",
    "from scipy import stats\n",
    "\n",
    "sns.set_style(\"white\")\n",
    "\n",
    "\n",
    "if not oauth.token_is_valid():\n",
    "    oauth.refresh_access_token()\n",
    "    \n",
    "df_cols = [\"projected points\"]\n",
    "out_df = pd.DataFrame(columns = df_cols)\n",
    "\n",
    "num_teams = 8\n",
    "\n",
    "league_ids = [1118202, 1110495, 1112355]\n",
    "\n",
    "dist_series = pd.Series()\n",
    "\n",
    "for league_id in league_ids:\n",
    "    url = \"https://fantasysports.yahooapis.com/fantasy/v2/league/nfl.l.\"+str(league_id)+\"/scoreboard\"\n",
    "    # url = \"https://fantasysports.yahooapis.com/fantasy/v2/league/nfl.l.1118202/standings\"\n",
    "    # probably migrate to scoreboard when there is data... but unsure\n",
    "    # url = \"https://fantasysports.yahooapis.com/fantasy/v2/league/nfl.l.854917/scoreboard\"\n",
    "    payload = \"\"\n",
    "    response = oauth.session.get(url, params=payload)\n",
    "\n",
    "    # we only want to process data if there's data to pass.\n",
    "    if not response.status_code == 200:\n",
    "        print(\"Status Code Not Valid\")\n",
    "        print(response.text)\n",
    "    else:\n",
    "\n",
    "    #   XML Samples which are searchable can be found here: https://developer.yahoo.com/fantasysports/guide/\n",
    "\n",
    "        soup = BeautifulSoup(response.text, 'lxml')\n",
    "    #     Remove new line formatting from html to prevent confusion\n",
    "        clean = str(soup).replace('\\n', '')\n",
    "    #     print(clean)\n",
    "    #     print(soup.prettify())\n",
    "\n",
    "    #  Get team Names:\n",
    "    #     select all name tags beneath team tags\n",
    "        s_team_names = soup.select('team_projected_points total')\n",
    "    #     extract the text from the entire tag\n",
    "        s_team_names = list(map(lambda x: float(x.text), s_team_names))\n",
    "#         print(s_team_names)\n",
    "    #     place that in a fancy little pandas series\n",
    "        dist_series = dist_series.append(pd.Series(s_team_names), ignore_index=True)\n",
    "#         print(dist_series)\n",
    "        \n",
    "#     out_df['owner name'] = s_nickname\n",
    "#     out_df['wins'] = s_wins\n",
    "#     out_df['losses'] = s_losses\n",
    "    \n",
    "sns.distplot(dist_series,bins=24);"
   ]
  }
 ],
 "metadata": {
  "kernelspec": {
   "display_name": "Python 3",
   "language": "python",
   "name": "python3"
  },
  "language_info": {
   "codemirror_mode": {
    "name": "ipython",
    "version": 3
   },
   "file_extension": ".py",
   "mimetype": "text/x-python",
   "name": "python",
   "nbconvert_exporter": "python",
   "pygments_lexer": "ipython3",
   "version": "3.7.3"
  }
 },
 "nbformat": 4,
 "nbformat_minor": 4
}
