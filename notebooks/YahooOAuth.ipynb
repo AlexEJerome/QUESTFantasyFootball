{
 "cells": [
  {
   "cell_type": "markdown",
   "metadata": {},
   "source": [
    "# This is a test\n",
    "Mainly we need to figure out how to oauth into yahoo. Let's test this.\n",
    "`pip install yahoo_oauth`\n",
    "\n",
    "First we establish a valid oauth token below:"
   ]
  },
  {
   "cell_type": "code",
   "execution_count": 159,
   "metadata": {},
   "outputs": [
    {
     "name": "stderr",
     "output_type": "stream",
     "text": [
      "[2019-08-07 20:57:31,963 DEBUG] [yahoo_oauth.yahoo_oauth.__init__] Checking \n",
      "[2019-08-07 20:57:31,964 DEBUG] [yahoo_oauth.yahoo_oauth.token_is_valid] ELAPSED TIME : 3618.220416545868\n",
      "[2019-08-07 20:57:31,964 DEBUG] [yahoo_oauth.yahoo_oauth.token_is_valid] TOKEN HAS EXPIRED\n",
      "[2019-08-07 20:57:31,965 DEBUG] [yahoo_oauth.yahoo_oauth.refresh_access_token] REFRESHING TOKEN\n"
     ]
    }
   ],
   "source": [
    "from yahoo_oauth import OAuth2\n",
    "oauth = OAuth2(None, None, from_file='../oauth2.json')"
   ]
  },
  {
   "cell_type": "markdown",
   "metadata": {},
   "source": [
    "This will run more frequently - this will check if the token is valid, if not, refresh. Then, we can try to download info from yahoo."
   ]
  },
  {
   "cell_type": "code",
   "execution_count": 165,
   "metadata": {},
   "outputs": [
    {
     "name": "stderr",
     "output_type": "stream",
     "text": [
      "[2019-08-07 20:58:41,616 DEBUG] [yahoo_oauth.yahoo_oauth.token_is_valid] ELAPSED TIME : 69.64996838569641\n",
      "[2019-08-07 20:58:41,618 DEBUG] [yahoo_oauth.yahoo_oauth.token_is_valid] TOKEN IS STILL VALID\n"
     ]
    },
    {
     "name": "stdout",
     "output_type": "stream",
     "text": [
      "<?xml version=\"1.0\" encoding=\"UTF-8\"?>\n",
      "<html>\n",
      " <body>\n",
      "  <fantasy_content copyright=\"Data provided by Yahoo! and STATS, LLC\" refresh_rate=\"60\" time=\"16.334056854248ms\" xml:lang=\"en-US\" xmlns=\"http://fantasysports.yahooapis.com/fantasy/v2/base.rng\" xmlns:yahoo=\"http://www.yahooapis.com/v1/base.rng\" yahoo:uri=\"http://fantasysports.yahooapis.com/fantasy/v2/team/nfl.l.854917.t.1\">\n",
      "   <team>\n",
      "    <team_key>\n",
      "     390.l.854917.t.1\n",
      "    </team_key>\n",
      "    <team_id>\n",
      "     1\n",
      "    </team_id>\n",
      "    <name>\n",
      "     Commissar Nofunski\n",
      "    </name>\n",
      "    <url>\n",
      "     https://football.fantasysports.yahoo.com/f1/854917/1\n",
      "    </url>\n",
      "    <team_logos>\n",
      "     <team_logo>\n",
      "      <size>\n",
      "       large\n",
      "      </size>\n",
      "      <url>\n",
      "       https://ct.yimg.com/cy/1816/30418069418_c698f4_192sq.jpg?ct=fantasy\n",
      "      </url>\n",
      "     </team_logo>\n",
      "    </team_logos>\n",
      "    <number_of_moves>\n",
      "     0\n",
      "    </number_of_moves>\n",
      "    <number_of_trades>\n",
      "     0\n",
      "    </number_of_trades>\n",
      "    <roster_adds>\n",
      "     <coverage_type>\n",
      "      week\n",
      "     </coverage_type>\n",
      "     <coverage_value>\n",
      "      1\n",
      "     </coverage_value>\n",
      "     <value>\n",
      "      0\n",
      "     </value>\n",
      "    </roster_adds>\n",
      "    <league_scoring_type>\n",
      "     head\n",
      "    </league_scoring_type>\n",
      "    <has_draft_grade>\n",
      "     0\n",
      "    </has_draft_grade>\n",
      "    <managers>\n",
      "     <manager>\n",
      "      <manager_id>\n",
      "       1\n",
      "      </manager_id>\n",
      "      <nickname>\n",
      "       asher\n",
      "      </nickname>\n",
      "      <guid>\n",
      "       TGTSHR6SIIOHQ2A2A3UPAFMKM4\n",
      "      </guid>\n",
      "      <is_commissioner>\n",
      "       1\n",
      "      </is_commissioner>\n",
      "      <email>\n",
      "       ashergw@yahoo.com\n",
      "      </email>\n",
      "      <image_url>\n",
      "       https://ct.yimg.com/cy/1768/39361574426_98028a_64sq.jpg\n",
      "      </image_url>\n",
      "     </manager>\n",
      "    </managers>\n",
      "   </team>\n",
      "  </fantasy_content>\n",
      "  <!-- fantasy-sports-api- -public-production-bf1-65dcb4dd88-vgm6x Thu Aug  8 00:58:41 UTC 2019 -->\n",
      " </body>\n",
      "</html>\n"
     ]
    },
    {
     "data": {
      "text/html": [
       "<div>\n",
       "<style scoped>\n",
       "    .dataframe tbody tr th:only-of-type {\n",
       "        vertical-align: middle;\n",
       "    }\n",
       "\n",
       "    .dataframe tbody tr th {\n",
       "        vertical-align: top;\n",
       "    }\n",
       "\n",
       "    .dataframe thead th {\n",
       "        text-align: right;\n",
       "    }\n",
       "</style>\n",
       "<table border=\"1\" class=\"dataframe\">\n",
       "  <thead>\n",
       "    <tr style=\"text-align: right;\">\n",
       "      <th></th>\n",
       "      <th>team name</th>\n",
       "    </tr>\n",
       "  </thead>\n",
       "  <tbody>\n",
       "    <tr>\n",
       "      <th>0</th>\n",
       "      <td>Commissar Nofunski</td>\n",
       "    </tr>\n",
       "  </tbody>\n",
       "</table>\n",
       "</div>"
      ],
      "text/plain": [
       "            team name\n",
       "0  Commissar Nofunski"
      ]
     },
     "metadata": {},
     "output_type": "display_data"
    }
   ],
   "source": [
    "from bs4 import BeautifulSoup\n",
    "import xml.etree.ElementTree as et \n",
    "import pandas as pd \n",
    "\n",
    "if not oauth.token_is_valid():\n",
    "    oauth.refresh_access_token()\n",
    "    \n",
    "df_cols = [\"team name\"]\n",
    "out_df = pd.DataFrame(columns = df_cols)\n",
    "\n",
    "num_teams = 10\n",
    "\n",
    "for i in range(1,num_teams+1):\n",
    "    \n",
    "    # url = \"https://fantasysports.yahooapis.com/fantasy/v2/league/nfl.l.854917\"\n",
    "#     iterate through each of the team ids (appended to url)\n",
    "    url = \"https://fantasysports.yahooapis.com/fantasy/v2/team/nfl.l.854917.t.\"+str(i)\n",
    "    payload = \"\"\n",
    "    response = oauth.session.get(url, params=payload)\n",
    "\n",
    "    # we only want to process data if there's data to pass.\n",
    "    if not response.status_code == 200:\n",
    "        print(\"Status Code Not Valid\")\n",
    "        print(response.text)\n",
    "    else:\n",
    "\n",
    "        soup = BeautifulSoup(response.text, 'lxml')\n",
    "        clean = str(soup).replace('\\n', '')\n",
    "    #     print(clean)\n",
    "        print(soup.prettify())\n",
    "        s_name = soup.find('name').text\n",
    "        out_df = out_df.append(pd.Series([s_name], index = df_cols), ignore_index=True)\n",
    "\n",
    "display(out_df)\n",
    "\n",
    "\n",
    "    #     Documentation that's helpful for ElementTree: https://docs.python.org/2/library/xml.etree.elementtree.html#finding-interesting-elements\n",
    "    # to traverse the tree we need to implement some namespacing: https://stackoverflow.com/questions/36368469/elementtree-find-always-returns-none?rq=1\n",
    "    # Too much effort; using beautiful soup\n",
    "    #     xtree = et.fromstring(clean)\n",
    "    #     s_name = xtree.find(\"./*/*/*/name\")\n",
    "    #     print(s_name)\n",
    "    "
   ]
  },
  {
   "cell_type": "code",
   "execution_count": null,
   "metadata": {},
   "outputs": [],
   "source": []
  },
  {
   "cell_type": "code",
   "execution_count": 154,
   "metadata": {},
   "outputs": [
    {
     "data": {
      "text/plain": [
       "\"hi i'm john\""
      ]
     },
     "execution_count": 154,
     "metadata": {},
     "output_type": "execute_result"
    }
   ],
   "source": [
    "\"hi i'm \" + \"john\""
   ]
  }
 ],
 "metadata": {
  "kernelspec": {
   "display_name": "Python 3",
   "language": "python",
   "name": "python3"
  },
  "language_info": {
   "codemirror_mode": {
    "name": "ipython",
    "version": 3
   },
   "file_extension": ".py",
   "mimetype": "text/x-python",
   "name": "python",
   "nbconvert_exporter": "python",
   "pygments_lexer": "ipython3",
   "version": "3.7.3"
  }
 },
 "nbformat": 4,
 "nbformat_minor": 4
}
