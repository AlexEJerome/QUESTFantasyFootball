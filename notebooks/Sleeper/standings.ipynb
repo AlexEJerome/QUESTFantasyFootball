{
 "cells": [
  {
   "cell_type": "markdown",
   "id": "78da9336-5d5c-4b9b-bb4c-2d35ea6aa73a",
   "metadata": {},
   "source": [
    "# Sleeper Standings\n",
    "\n",
    "Use [Sleeper API Documentation](https://docs.sleeper.com/) to complete this.\n",
    "\n",
    "Sample League Sleeper IDs:\n",
    " 1. QUESTASY Football Trial: ```865826998382112768```\n",
    "\n",
    "TODO:\n",
    " - [ ] Consider using [leg](https://api.sleeper.app/v1/state/nfl) for the \"week\" variable so you don't have to manually update it weekly\n",
    " - [ ] Join [Rosters endpoint \"owner_id\"](https://api.sleeper.app/v1/league/844512859378528256/rosters) with [Users endpoint \"user_id\"](https://api.sleeper.app/v1/league/844512859378528256/users) to get \"display_name\" associated with overall stats.\n",
    " - [ ] For weekly stats (where week < \"leg\") use the [matchups endpoint](https://docs.sleeper.com/#getting-matchups-in-a-league) and match user table's roster ID with matchup's roster ID"
   ]
  },
  {
   "cell_type": "code",
   "execution_count": 9,
   "id": "e88c97c4-4d9d-4f80-a399-9b830f9d53f0",
   "metadata": {},
   "outputs": [],
   "source": [
    "import matplotlib.pyplot as plt\n",
    "import pandas as pd\n",
    "import numpy as np\n",
    "import seaborn as sns"
   ]
  }
 ],
 "metadata": {
  "kernelspec": {
   "display_name": "Python 3 (ipykernel)",
   "language": "python",
   "name": "python3"
  },
  "language_info": {
   "codemirror_mode": {
    "name": "ipython",
    "version": 3
   },
   "file_extension": ".py",
   "mimetype": "text/x-python",
   "name": "python",
   "nbconvert_exporter": "python",
   "pygments_lexer": "ipython3",
   "version": "3.11.1"
  }
 },
 "nbformat": 4,
 "nbformat_minor": 5
}
